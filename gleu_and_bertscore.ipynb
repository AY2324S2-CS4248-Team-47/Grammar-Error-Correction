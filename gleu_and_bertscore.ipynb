{
 "cells": [
  {
   "cell_type": "code",
   "execution_count": null,
   "metadata": {},
   "outputs": [],
   "source": [
    "pip install nltk"
   ]
  },
  {
   "cell_type": "markdown",
   "metadata": {},
   "source": [
    "# Evaluation Metrics"
   ]
  },
  {
   "cell_type": "markdown",
   "metadata": {},
   "source": [
    "## Gleu Score by NLTK\n",
    "\n",
    "Two approaches:\n",
    "### 1. Average of the scores of each sentence / paragraph\n",
    "- For each sentence, calculate the gleu score\n",
    "- Get the average of all the gleu scores\n",
    "\n",
    "\n",
    "### 2. Combine all sentences into one variable\n",
    "- Join all of the sentences using\n",
    "    - ref1 = \" \".join(text)\n",
    "    - hyp1 = \" \".join(correct_text)\n",
    "- Calculate gleu score\n",
    "\n",
    "\n",
    "\n",
    "### Parameters\n",
    "references (list(list(str))) – a list of reference sentences\n",
    "\n",
    "hypothesis (list(str)) – a hypothesis sentence\n",
    "\n",
    "min_len (int) – The minimum order of n-gram this function should extract.\n",
    "\n",
    "max_len (int) – The maximum order of n-gram this function should extract.\n",
    "\n",
    "\n",
    "\n",
    "`nltk.translate.gleu_score.sentence_gleu(references, hypothesis, min_len=1, max_len=4)`"
   ]
  },
  {
   "cell_type": "code",
   "execution_count": 2,
   "metadata": {},
   "outputs": [
    {
     "name": "stdout",
     "output_type": "stream",
     "text": [
      "0.6956521739130435\n"
     ]
    }
   ],
   "source": [
    "import nltk\n",
    "\n",
    "ref1 = 'A cat sat on the mat. The dogs. Giant otters are apex predators.'.split()\n",
    "hyp1 = 'A cat sat on the mat. The dog. Giant otters are apex predator.'.split()\n",
    "print(nltk.translate.gleu_score.sentence_gleu([ref1], hyp1))\n",
    "\n"
   ]
  },
  {
   "cell_type": "markdown",
   "metadata": {},
   "source": [
    "## BLEU Score\n",
    "similar to GLEU"
   ]
  },
  {
   "cell_type": "code",
   "execution_count": 2,
   "metadata": {},
   "outputs": [
    {
     "name": "stdout",
     "output_type": "stream",
     "text": [
      "0.6703420896351792\n"
     ]
    }
   ],
   "source": [
    "import nltk\n",
    "ref1 = 'A cat sat on the mat. The dogs. Giant otters are apex predators.'.split()\n",
    "hyp1 = 'A cat sat on the mat. The dog. Giant otters are apex predator.'.split()\n",
    "print(nltk.translate.bleu_score.sentence_bleu([ref1], hyp1))"
   ]
  },
  {
   "cell_type": "markdown",
   "metadata": {},
   "source": [
    "## BERT Score\n",
    "Two approaches\n",
    "1. references = a list of original paragraphs, predictions = a list of corrected paragraphs\n",
    "2. references = a list of original sentences, predictions = a list of corrected sentences"
   ]
  },
  {
   "cell_type": "code",
   "execution_count": null,
   "metadata": {},
   "outputs": [],
   "source": [
    "pip install evaluate bert_score"
   ]
  },
  {
   "cell_type": "code",
   "execution_count": 10,
   "metadata": {},
   "outputs": [
    {
     "name": "stderr",
     "output_type": "stream",
     "text": [
      "Some weights of RobertaModel were not initialized from the model checkpoint at roberta-large and are newly initialized: ['roberta.pooler.dense.bias', 'roberta.pooler.dense.weight']\n",
      "You should probably TRAIN this model on a down-stream task to be able to use it for predictions and inference.\n"
     ]
    },
    {
     "name": "stdout",
     "output_type": "stream",
     "text": [
      "{'precision': [0.9999997615814209, 1.000000238418579], 'recall': [0.9999997615814209, 1.000000238418579], 'f1': [0.9999997615814209, 1.000000238418579], 'hashcode': 'roberta-large_L17_no-idf_version=0.3.12(hug_trans=4.36.2)'}\n"
     ]
    }
   ],
   "source": [
    "from evaluate import load\n",
    "bertscore = load(\"bertscore\")\n",
    "predictions = [\"hello there\", \"general kenobi\"]\n",
    "references = [\"hello there\", \"general kenobi\"]\n",
    "results = bertscore.compute(predictions=predictions, references=references, lang=\"en\")\n",
    "print(results)"
   ]
  },
  {
   "cell_type": "code",
   "execution_count": 7,
   "metadata": {},
   "outputs": [
    {
     "name": "stdout",
     "output_type": "stream",
     "text": [
      "{'precision': [0.991431713104248], 'recall': [0.991431713104248], 'f1': [0.991431713104248], 'hashcode': 'roberta-large_L17_no-idf_version=0.3.12(hug_trans=4.36.2)'}\n"
     ]
    }
   ],
   "source": [
    "references = ['A cat sat on the mat. The dogs. Giant otters are apex predators.']\n",
    "predictions = ['A cat sat on the mat. The dog. Giant otters are apex predator.']\n",
    "results1 = bertscore.compute(predictions=predictions, references=references, lang=\"en\")\n",
    "print(results1)"
   ]
  }
 ],
 "metadata": {
  "kernelspec": {
   "display_name": "base",
   "language": "python",
   "name": "python3"
  },
  "language_info": {
   "codemirror_mode": {
    "name": "ipython",
    "version": 3
   },
   "file_extension": ".py",
   "mimetype": "text/x-python",
   "name": "python",
   "nbconvert_exporter": "python",
   "pygments_lexer": "ipython3",
   "version": "3.11.5"
  },
  "orig_nbformat": 4
 },
 "nbformat": 4,
 "nbformat_minor": 2
}
