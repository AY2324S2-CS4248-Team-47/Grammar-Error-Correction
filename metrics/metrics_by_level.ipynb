{
 "cells": [
  {
   "cell_type": "markdown",
   "metadata": {},
   "source": [
    "# Metrics for different CEFR levels"
   ]
  },
  {
   "cell_type": "markdown",
   "metadata": {},
   "source": [
    "Computing the following metrics for every cefr level (A, B, C):\n",
    "- Bertscores\n",
    "  - Precision\n",
    "  - Recall\n",
    "  - F1\n",
    "- Edit-distance\n",
    "- GLEU"
   ]
  },
  {
   "cell_type": "markdown",
   "metadata": {},
   "source": [
    "## Download required modules"
   ]
  },
  {
   "cell_type": "code",
   "execution_count": 1,
   "metadata": {},
   "outputs": [
    {
     "name": "stdout",
     "output_type": "stream",
     "text": [
      "Requirement already satisfied: editdistance in c:\\users\\aarna\\documents\\aarnav\\nus\\academics\\y3s2\\cs4248\\project\\grammar-error-correction\\.venv\\lib\\site-packages (0.8.1)\n",
      "Requirement already satisfied: pandas in c:\\users\\aarna\\documents\\aarnav\\nus\\academics\\y3s2\\cs4248\\project\\grammar-error-correction\\.venv\\lib\\site-packages (2.2.2)\n",
      "Requirement already satisfied: numpy>=1.22.4 in c:\\users\\aarna\\documents\\aarnav\\nus\\academics\\y3s2\\cs4248\\project\\grammar-error-correction\\.venv\\lib\\site-packages (from pandas) (1.26.4)\n",
      "Requirement already satisfied: python-dateutil>=2.8.2 in c:\\users\\aarna\\documents\\aarnav\\nus\\academics\\y3s2\\cs4248\\project\\grammar-error-correction\\.venv\\lib\\site-packages (from pandas) (2.9.0.post0)\n",
      "Requirement already satisfied: pytz>=2020.1 in c:\\users\\aarna\\documents\\aarnav\\nus\\academics\\y3s2\\cs4248\\project\\grammar-error-correction\\.venv\\lib\\site-packages (from pandas) (2024.1)\n",
      "Requirement already satisfied: tzdata>=2022.7 in c:\\users\\aarna\\documents\\aarnav\\nus\\academics\\y3s2\\cs4248\\project\\grammar-error-correction\\.venv\\lib\\site-packages (from pandas) (2024.1)\n",
      "Requirement already satisfied: six>=1.5 in c:\\users\\aarna\\documents\\aarnav\\nus\\academics\\y3s2\\cs4248\\project\\grammar-error-correction\\.venv\\lib\\site-packages (from python-dateutil>=2.8.2->pandas) (1.16.0)\n"
     ]
    }
   ],
   "source": [
    "!pip install editdistance pandas"
   ]
  },
  {
   "cell_type": "markdown",
   "metadata": {},
   "source": [
    "## Import required packages"
   ]
  },
  {
   "cell_type": "code",
   "execution_count": 2,
   "metadata": {},
   "outputs": [],
   "source": [
    "import json\n",
    "import editdistance\n",
    "import pandas as pd"
   ]
  },
  {
   "cell_type": "markdown",
   "metadata": {},
   "source": [
    "## Helper Functions"
   ]
  },
  {
   "cell_type": "code",
   "execution_count": 3,
   "metadata": {},
   "outputs": [],
   "source": [
    "def get_bertscore_by_level(data_file_path, metrics_file_path):\n",
    "    data = json.load(open(data_file_path))\n",
    "    metrics = json.load(open(metrics_file_path, \"r\"))\n",
    "\n",
    "    bertscores_by_level = {}\n",
    "\n",
    "    levels = data['cefr']\n",
    "    bertscores = metrics['bertscore']\n",
    "    precisions, recalls, f1s = bertscores['precision'], bertscores['recall'], bertscores['f1']\n",
    "\n",
    "    for i in range(len(levels)):\n",
    "        level = levels[i][0]\n",
    "\n",
    "        if level not in bertscores_by_level:\n",
    "            bertscores_by_level[level] = {'precision': [], 'recall': [], 'f1': []}\n",
    "\n",
    "        bertscores_by_level[level]['precision'].append(precisions[i])\n",
    "        bertscores_by_level[level]['recall'].append(recalls[i])\n",
    "        bertscores_by_level[level]['f1'].append(f1s[i])\n",
    "\n",
    "    for level in bertscores_by_level:\n",
    "        bertscores_by_level[level]['avg_precision'] = sum(bertscores_by_level[level]['precision']) / len(bertscores_by_level[level]['precision'])\n",
    "        bertscores_by_level[level]['avg_recall'] = sum(bertscores_by_level[level]['recall']) / len(bertscores_by_level[level]['recall'])\n",
    "        bertscores_by_level[level]['avg_f1'] = sum(bertscores_by_level[level]['f1']) / len(bertscores_by_level[level]['f1'])\n",
    "\n",
    "    return bertscores_by_level"
   ]
  },
  {
   "cell_type": "code",
   "execution_count": 4,
   "metadata": {},
   "outputs": [],
   "source": [
    "def get_edit_dist_by_level(data_file_path):\n",
    "    data = json.load(open(data_file_path))\n",
    "\n",
    "    edit_dist_by_level = {}\n",
    "\n",
    "    levels = data['cefr']\n",
    "    inputs, predictions = data['inputs'], data['predictions']\n",
    "\n",
    "    for i in range(len(levels)):\n",
    "        level = levels[i][0]\n",
    "\n",
    "        if level not in edit_dist_by_level:\n",
    "            edit_dist_by_level[level] = {'ed': []}\n",
    "        \n",
    "        input_text, prediction = inputs[i], predictions[i]\n",
    "        ed = editdistance.eval(input_text, prediction) / len(input_text) # Edit distance normalized by input length\n",
    "\n",
    "        edit_dist_by_level[level]['ed'].append(ed)\n",
    "\n",
    "    for level in edit_dist_by_level:\n",
    "        edit_dist_by_level[level]['avg_ed'] = sum(edit_dist_by_level[level]['ed']) / len(edit_dist_by_level[level]['ed'])\n",
    "\n",
    "    return edit_dist_by_level"
   ]
  },
  {
   "cell_type": "code",
   "execution_count": 11,
   "metadata": {},
   "outputs": [],
   "source": [
    "def get_gleu_by_level(data_file_path, gleu_file_path):\n",
    "    data = json.load(open(data_file_path))\n",
    "    gleu_df = pd.read_csv(gleu_file_path, header=None)\n",
    "\n",
    "    gleu_scores = gleu_df[0]\n",
    "\n",
    "    gleu_by_level = {}\n",
    "\n",
    "    for i in range(len(data['cefr'])):\n",
    "        level = data['cefr'][i][0]\n",
    "\n",
    "        if level not in gleu_by_level:\n",
    "            gleu_by_level[level] = {\"gleu\": []}\n",
    "\n",
    "        gleu_by_level[level]['gleu'].append(gleu_scores[i])\n",
    "\n",
    "    for level in gleu_by_level:\n",
    "        gleu_by_level[level]['avg_gleu'] = sum(gleu_by_level[level]['gleu']) / len(gleu_by_level[level]['gleu'])\n",
    "\n",
    "    return gleu_by_level"
   ]
  },
  {
   "cell_type": "code",
   "execution_count": 6,
   "metadata": {},
   "outputs": [],
   "source": [
    "def get_num_samples(data_file_path):\n",
    "    data = json.load(open(data_file_path))\n",
    "\n",
    "    num_samples = {}\n",
    "\n",
    "    for lvl in data['cefr']:\n",
    "        level = lvl[0]\n",
    "        if level not in num_samples:\n",
    "            num_samples[level] = 0\n",
    "        num_samples[level] += 1\n",
    "\n",
    "    return num_samples"
   ]
  },
  {
   "cell_type": "code",
   "execution_count": 7,
   "metadata": {},
   "outputs": [],
   "source": [
    "def get_all_metrics_by_level(data_file_path, metrics_file_path, gleu_file_path):\n",
    "    bertscores_by_level = get_bertscore_by_level(data_file_path, metrics_file_path)\n",
    "    edit_dist_by_level = get_edit_dist_by_level(data_file_path)\n",
    "    gleu_by_level = get_gleu_by_level(data_file_path, gleu_file_path)\n",
    "    num_samples = get_num_samples(data_file_path)\n",
    "\n",
    "    all_metrics_by_level = {\n",
    "        'bertscore': bertscores_by_level,\n",
    "        'edit_distance': edit_dist_by_level,\n",
    "        'gleu': gleu_by_level,\n",
    "        'num_samples': num_samples\n",
    "    }\n",
    "\n",
    "    return all_metrics_by_level"
   ]
  },
  {
   "cell_type": "markdown",
   "metadata": {},
   "source": [
    "## Metrics by levels"
   ]
  },
  {
   "cell_type": "markdown",
   "metadata": {},
   "source": [
    "### StableLM without DPO"
   ]
  },
  {
   "cell_type": "code",
   "execution_count": 12,
   "metadata": {},
   "outputs": [],
   "source": [
    "base_stablelm_metrics_by_level = get_all_metrics_by_level(\n",
    "    \"./finetuned/base_stablelm_data.json\",\n",
    "    \"./finetuned/base_stablelm_metrics.txt\",\n",
    "    \"./finetuned/base_stablelm_data_sentence_level_gleu.csv\"\n",
    ")\n",
    "json.dump(\n",
    "    base_stablelm_metrics_by_level,\n",
    "    open(\"./finetuned/base_stablelm_metrics_by_level.json\", \"w\")\n",
    ")"
   ]
  },
  {
   "cell_type": "markdown",
   "metadata": {},
   "source": [
    "### StableLM with DPO"
   ]
  },
  {
   "cell_type": "markdown",
   "metadata": {},
   "source": [
    "#### DPO with Backtranslation"
   ]
  },
  {
   "cell_type": "code",
   "execution_count": 13,
   "metadata": {},
   "outputs": [],
   "source": [
    "stablelm_dpo_bt_metrics_by_level = get_all_metrics_by_level(\n",
    "    \"./dpo/stablelm_dpo_backtranslation_data.json\",\n",
    "    \"./dpo/stablelm_dpo_backtranslation_metrics.txt\",\n",
    "    \"./dpo/stablelm_dpo_backtranslation_data_sentence_level_gleu.csv\"\n",
    ")\n",
    "json.dump(\n",
    "    stablelm_dpo_bt_metrics_by_level,\n",
    "    open(\"./dpo/stablelm_dpo_bt_metrics_by_level.json\", \"w\")\n",
    ")"
   ]
  },
  {
   "cell_type": "markdown",
   "metadata": {},
   "source": [
    "#### DPO with Ultrafeedback"
   ]
  },
  {
   "cell_type": "code",
   "execution_count": 14,
   "metadata": {},
   "outputs": [],
   "source": [
    "stablelm_dpo_uf_metrics_by_level = get_all_metrics_by_level(\n",
    "    \"./dpo/stablelm_dpo_data.json\",\n",
    "    \"./dpo/stablelm_dpo_metrics.txt\",\n",
    "    \"./dpo/stablelm_dpo_data_sentence_level_gleu.csv\"\n",
    ")\n",
    "json.dump(\n",
    "    stablelm_dpo_uf_metrics_by_level,\n",
    "    open(\"./dpo/stablelm_dpo_uf_metrics_by_level.json\", \"w\")\n",
    ")"
   ]
  }
 ],
 "metadata": {
  "kernelspec": {
   "display_name": ".venv",
   "language": "python",
   "name": "python3"
  },
  "language_info": {
   "codemirror_mode": {
    "name": "ipython",
    "version": 3
   },
   "file_extension": ".py",
   "mimetype": "text/x-python",
   "name": "python",
   "nbconvert_exporter": "python",
   "pygments_lexer": "ipython3",
   "version": "3.10.6"
  }
 },
 "nbformat": 4,
 "nbformat_minor": 2
}
