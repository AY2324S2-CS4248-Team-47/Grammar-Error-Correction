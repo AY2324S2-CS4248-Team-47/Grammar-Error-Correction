{
 "cells": [
  {
   "cell_type": "markdown",
   "metadata": {},
   "source": [
    "# Metrics for different CEFR levels"
   ]
  },
  {
   "cell_type": "markdown",
   "metadata": {},
   "source": [
    "Computing the following metrics for every cefr level (A, B, C):\n",
    "- Bertscores\n",
    "  - Precision\n",
    "  - Recall\n",
    "  - F1\n",
    "- Edit-distance\n",
    "- GLEU\n",
    "- BLEU\n",
    "- ROUGE"
   ]
  },
  {
   "cell_type": "markdown",
   "metadata": {},
   "source": [
    "## Download required modules"
   ]
  },
  {
   "cell_type": "code",
   "execution_count": 51,
   "metadata": {},
   "outputs": [
    {
     "name": "stdout",
     "output_type": "stream",
     "text": [
      "Requirement already satisfied: editdistance in c:\\users\\aarna\\documents\\aarnav\\nus\\academics\\y3s2\\cs4248\\project\\grammar-error-correction\\.venv\\lib\\site-packages (0.8.1)\n",
      "Requirement already satisfied: pandas in c:\\users\\aarna\\documents\\aarnav\\nus\\academics\\y3s2\\cs4248\\project\\grammar-error-correction\\.venv\\lib\\site-packages (2.2.2)\n",
      "Requirement already satisfied: evaluate in c:\\users\\aarna\\documents\\aarnav\\nus\\academics\\y3s2\\cs4248\\project\\grammar-error-correction\\.venv\\lib\\site-packages (0.4.1)\n",
      "Requirement already satisfied: absl-py in c:\\users\\aarna\\documents\\aarnav\\nus\\academics\\y3s2\\cs4248\\project\\grammar-error-correction\\.venv\\lib\\site-packages (2.1.0)\n",
      "Requirement already satisfied: nltk in c:\\users\\aarna\\documents\\aarnav\\nus\\academics\\y3s2\\cs4248\\project\\grammar-error-correction\\.venv\\lib\\site-packages (3.8.1)\n",
      "Requirement already satisfied: rouge_score in c:\\users\\aarna\\documents\\aarnav\\nus\\academics\\y3s2\\cs4248\\project\\grammar-error-correction\\.venv\\lib\\site-packages (0.1.2)\n",
      "Requirement already satisfied: numpy>=1.22.4 in c:\\users\\aarna\\documents\\aarnav\\nus\\academics\\y3s2\\cs4248\\project\\grammar-error-correction\\.venv\\lib\\site-packages (from pandas) (1.26.4)\n",
      "Requirement already satisfied: python-dateutil>=2.8.2 in c:\\users\\aarna\\documents\\aarnav\\nus\\academics\\y3s2\\cs4248\\project\\grammar-error-correction\\.venv\\lib\\site-packages (from pandas) (2.9.0.post0)\n",
      "Requirement already satisfied: pytz>=2020.1 in c:\\users\\aarna\\documents\\aarnav\\nus\\academics\\y3s2\\cs4248\\project\\grammar-error-correction\\.venv\\lib\\site-packages (from pandas) (2024.1)\n",
      "Requirement already satisfied: tzdata>=2022.7 in c:\\users\\aarna\\documents\\aarnav\\nus\\academics\\y3s2\\cs4248\\project\\grammar-error-correction\\.venv\\lib\\site-packages (from pandas) (2024.1)\n",
      "Requirement already satisfied: datasets>=2.0.0 in c:\\users\\aarna\\documents\\aarnav\\nus\\academics\\y3s2\\cs4248\\project\\grammar-error-correction\\.venv\\lib\\site-packages (from evaluate) (2.18.0)\n",
      "Requirement already satisfied: dill in c:\\users\\aarna\\documents\\aarnav\\nus\\academics\\y3s2\\cs4248\\project\\grammar-error-correction\\.venv\\lib\\site-packages (from evaluate) (0.3.8)\n",
      "Requirement already satisfied: requests>=2.19.0 in c:\\users\\aarna\\documents\\aarnav\\nus\\academics\\y3s2\\cs4248\\project\\grammar-error-correction\\.venv\\lib\\site-packages (from evaluate) (2.31.0)\n",
      "Requirement already satisfied: tqdm>=4.62.1 in c:\\users\\aarna\\documents\\aarnav\\nus\\academics\\y3s2\\cs4248\\project\\grammar-error-correction\\.venv\\lib\\site-packages (from evaluate) (4.66.2)\n",
      "Requirement already satisfied: xxhash in c:\\users\\aarna\\documents\\aarnav\\nus\\academics\\y3s2\\cs4248\\project\\grammar-error-correction\\.venv\\lib\\site-packages (from evaluate) (3.4.1)\n",
      "Requirement already satisfied: multiprocess in c:\\users\\aarna\\documents\\aarnav\\nus\\academics\\y3s2\\cs4248\\project\\grammar-error-correction\\.venv\\lib\\site-packages (from evaluate) (0.70.16)\n",
      "Requirement already satisfied: fsspec>=2021.05.0 in c:\\users\\aarna\\documents\\aarnav\\nus\\academics\\y3s2\\cs4248\\project\\grammar-error-correction\\.venv\\lib\\site-packages (from fsspec[http]>=2021.05.0->evaluate) (2024.2.0)\n",
      "Requirement already satisfied: huggingface-hub>=0.7.0 in c:\\users\\aarna\\documents\\aarnav\\nus\\academics\\y3s2\\cs4248\\project\\grammar-error-correction\\.venv\\lib\\site-packages (from evaluate) (0.22.2)\n",
      "Requirement already satisfied: packaging in c:\\users\\aarna\\documents\\aarnav\\nus\\academics\\y3s2\\cs4248\\project\\grammar-error-correction\\.venv\\lib\\site-packages (from evaluate) (24.0)\n",
      "Requirement already satisfied: responses<0.19 in c:\\users\\aarna\\documents\\aarnav\\nus\\academics\\y3s2\\cs4248\\project\\grammar-error-correction\\.venv\\lib\\site-packages (from evaluate) (0.18.0)\n",
      "Requirement already satisfied: click in c:\\users\\aarna\\documents\\aarnav\\nus\\academics\\y3s2\\cs4248\\project\\grammar-error-correction\\.venv\\lib\\site-packages (from nltk) (8.1.7)\n",
      "Requirement already satisfied: joblib in c:\\users\\aarna\\documents\\aarnav\\nus\\academics\\y3s2\\cs4248\\project\\grammar-error-correction\\.venv\\lib\\site-packages (from nltk) (1.4.0)\n",
      "Requirement already satisfied: regex>=2021.8.3 in c:\\users\\aarna\\documents\\aarnav\\nus\\academics\\y3s2\\cs4248\\project\\grammar-error-correction\\.venv\\lib\\site-packages (from nltk) (2024.4.16)\n",
      "Requirement already satisfied: six>=1.14.0 in c:\\users\\aarna\\documents\\aarnav\\nus\\academics\\y3s2\\cs4248\\project\\grammar-error-correction\\.venv\\lib\\site-packages (from rouge_score) (1.16.0)\n",
      "Requirement already satisfied: filelock in c:\\users\\aarna\\documents\\aarnav\\nus\\academics\\y3s2\\cs4248\\project\\grammar-error-correction\\.venv\\lib\\site-packages (from datasets>=2.0.0->evaluate) (3.13.4)\n",
      "Requirement already satisfied: pyarrow>=12.0.0 in c:\\users\\aarna\\documents\\aarnav\\nus\\academics\\y3s2\\cs4248\\project\\grammar-error-correction\\.venv\\lib\\site-packages (from datasets>=2.0.0->evaluate) (15.0.2)\n",
      "Requirement already satisfied: pyarrow-hotfix in c:\\users\\aarna\\documents\\aarnav\\nus\\academics\\y3s2\\cs4248\\project\\grammar-error-correction\\.venv\\lib\\site-packages (from datasets>=2.0.0->evaluate) (0.6)\n",
      "Requirement already satisfied: aiohttp in c:\\users\\aarna\\documents\\aarnav\\nus\\academics\\y3s2\\cs4248\\project\\grammar-error-correction\\.venv\\lib\\site-packages (from datasets>=2.0.0->evaluate) (3.9.5)\n",
      "Requirement already satisfied: pyyaml>=5.1 in c:\\users\\aarna\\documents\\aarnav\\nus\\academics\\y3s2\\cs4248\\project\\grammar-error-correction\\.venv\\lib\\site-packages (from datasets>=2.0.0->evaluate) (6.0.1)\n",
      "Requirement already satisfied: typing-extensions>=3.7.4.3 in c:\\users\\aarna\\documents\\aarnav\\nus\\academics\\y3s2\\cs4248\\project\\grammar-error-correction\\.venv\\lib\\site-packages (from huggingface-hub>=0.7.0->evaluate) (4.11.0)\n",
      "Requirement already satisfied: charset-normalizer<4,>=2 in c:\\users\\aarna\\documents\\aarnav\\nus\\academics\\y3s2\\cs4248\\project\\grammar-error-correction\\.venv\\lib\\site-packages (from requests>=2.19.0->evaluate) (3.3.2)\n",
      "Requirement already satisfied: idna<4,>=2.5 in c:\\users\\aarna\\documents\\aarnav\\nus\\academics\\y3s2\\cs4248\\project\\grammar-error-correction\\.venv\\lib\\site-packages (from requests>=2.19.0->evaluate) (3.7)\n",
      "Requirement already satisfied: urllib3<3,>=1.21.1 in c:\\users\\aarna\\documents\\aarnav\\nus\\academics\\y3s2\\cs4248\\project\\grammar-error-correction\\.venv\\lib\\site-packages (from requests>=2.19.0->evaluate) (2.2.1)\n",
      "Requirement already satisfied: certifi>=2017.4.17 in c:\\users\\aarna\\documents\\aarnav\\nus\\academics\\y3s2\\cs4248\\project\\grammar-error-correction\\.venv\\lib\\site-packages (from requests>=2.19.0->evaluate) (2024.2.2)\n",
      "Requirement already satisfied: colorama in c:\\users\\aarna\\documents\\aarnav\\nus\\academics\\y3s2\\cs4248\\project\\grammar-error-correction\\.venv\\lib\\site-packages (from tqdm>=4.62.1->evaluate) (0.4.6)\n",
      "Requirement already satisfied: aiosignal>=1.1.2 in c:\\users\\aarna\\documents\\aarnav\\nus\\academics\\y3s2\\cs4248\\project\\grammar-error-correction\\.venv\\lib\\site-packages (from aiohttp->datasets>=2.0.0->evaluate) (1.3.1)\n",
      "Requirement already satisfied: attrs>=17.3.0 in c:\\users\\aarna\\documents\\aarnav\\nus\\academics\\y3s2\\cs4248\\project\\grammar-error-correction\\.venv\\lib\\site-packages (from aiohttp->datasets>=2.0.0->evaluate) (23.2.0)\n",
      "Requirement already satisfied: frozenlist>=1.1.1 in c:\\users\\aarna\\documents\\aarnav\\nus\\academics\\y3s2\\cs4248\\project\\grammar-error-correction\\.venv\\lib\\site-packages (from aiohttp->datasets>=2.0.0->evaluate) (1.4.1)\n",
      "Requirement already satisfied: multidict<7.0,>=4.5 in c:\\users\\aarna\\documents\\aarnav\\nus\\academics\\y3s2\\cs4248\\project\\grammar-error-correction\\.venv\\lib\\site-packages (from aiohttp->datasets>=2.0.0->evaluate) (6.0.5)\n",
      "Requirement already satisfied: yarl<2.0,>=1.0 in c:\\users\\aarna\\documents\\aarnav\\nus\\academics\\y3s2\\cs4248\\project\\grammar-error-correction\\.venv\\lib\\site-packages (from aiohttp->datasets>=2.0.0->evaluate) (1.9.4)\n",
      "Requirement already satisfied: async-timeout<5.0,>=4.0 in c:\\users\\aarna\\documents\\aarnav\\nus\\academics\\y3s2\\cs4248\\project\\grammar-error-correction\\.venv\\lib\\site-packages (from aiohttp->datasets>=2.0.0->evaluate) (4.0.3)\n"
     ]
    }
   ],
   "source": [
    "!pip install editdistance pandas evaluate absl-py nltk rouge_score"
   ]
  },
  {
   "cell_type": "markdown",
   "metadata": {},
   "source": [
    "## Import required packages"
   ]
  },
  {
   "cell_type": "code",
   "execution_count": null,
   "metadata": {},
   "outputs": [],
   "source": [
    "import json\n",
    "import editdistance\n",
    "import pandas as pd\n",
    "from evaluate import load as eval_load"
   ]
  },
  {
   "cell_type": "markdown",
   "metadata": {},
   "source": [
    "## Helper Functions"
   ]
  },
  {
   "cell_type": "code",
   "execution_count": null,
   "metadata": {},
   "outputs": [],
   "source": [
    "def get_bertscore_by_level(data_file_path, metrics_file_path):\n",
    "    data = json.load(open(data_file_path))\n",
    "    metrics = json.load(open(metrics_file_path, \"r\"))\n",
    "\n",
    "    bertscores_by_level = {}\n",
    "\n",
    "    levels = data['cefr']\n",
    "    bertscores = metrics['bertscore']\n",
    "    precisions, recalls, f1s = bertscores['precision'], bertscores['recall'], bertscores['f1']\n",
    "\n",
    "    for i in range(len(levels)):\n",
    "        level = levels[i][0]\n",
    "\n",
    "        if level not in bertscores_by_level:\n",
    "            bertscores_by_level[level] = {'precision': [], 'recall': [], 'f1': []}\n",
    "\n",
    "        bertscores_by_level[level]['precision'].append(precisions[i])\n",
    "        bertscores_by_level[level]['recall'].append(recalls[i])\n",
    "        bertscores_by_level[level]['f1'].append(f1s[i])\n",
    "\n",
    "    for level in bertscores_by_level:\n",
    "        bertscores_by_level[level]['avg_precision'] = sum(bertscores_by_level[level]['precision']) / len(bertscores_by_level[level]['precision'])\n",
    "        bertscores_by_level[level]['avg_recall'] = sum(bertscores_by_level[level]['recall']) / len(bertscores_by_level[level]['recall'])\n",
    "        bertscores_by_level[level]['avg_f1'] = sum(bertscores_by_level[level]['f1']) / len(bertscores_by_level[level]['f1'])\n",
    "\n",
    "    return bertscores_by_level"
   ]
  },
  {
   "cell_type": "code",
   "execution_count": null,
   "metadata": {},
   "outputs": [],
   "source": [
    "def get_edit_dist_by_level(data_file_path):\n",
    "    data = json.load(open(data_file_path))\n",
    "\n",
    "    edit_dist_by_level = {}\n",
    "\n",
    "    levels = data['cefr']\n",
    "    inputs, predictions = data['inputs'], data['predictions']\n",
    "\n",
    "    for i in range(len(levels)):\n",
    "        level = levels[i][0]\n",
    "\n",
    "        if level not in edit_dist_by_level:\n",
    "            edit_dist_by_level[level] = {'ed': []}\n",
    "        \n",
    "        input_text, prediction = inputs[i], predictions[i]\n",
    "        ed = editdistance.eval(input_text, prediction) / len(input_text) # Edit distance normalized by input length\n",
    "\n",
    "        edit_dist_by_level[level]['ed'].append(ed)\n",
    "\n",
    "    for level in edit_dist_by_level:\n",
    "        edit_dist_by_level[level]['avg_ed'] = sum(edit_dist_by_level[level]['ed']) / len(edit_dist_by_level[level]['ed'])\n",
    "\n",
    "    return edit_dist_by_level"
   ]
  },
  {
   "cell_type": "code",
   "execution_count": null,
   "metadata": {},
   "outputs": [],
   "source": [
    "def get_gleu_by_level(data_file_path, gleu_file_path):\n",
    "    data = json.load(open(data_file_path))\n",
    "    gleu_df = pd.read_csv(gleu_file_path, header=None)\n",
    "\n",
    "    gleu_scores = gleu_df[0]\n",
    "\n",
    "    gleu_by_level = {}\n",
    "\n",
    "    for i in range(len(data['cefr'])):\n",
    "        level = data['cefr'][i][0]\n",
    "\n",
    "        if level not in gleu_by_level:\n",
    "            gleu_by_level[level] = {\"gleu\": []}\n",
    "\n",
    "        gleu_by_level[level]['gleu'].append(gleu_scores[i])\n",
    "\n",
    "    for level in gleu_by_level:\n",
    "        gleu_by_level[level]['avg_gleu'] = sum(gleu_by_level[level]['gleu']) / len(gleu_by_level[level]['gleu'])\n",
    "\n",
    "    return gleu_by_level"
   ]
  },
  {
   "cell_type": "code",
   "execution_count": null,
   "metadata": {},
   "outputs": [],
   "source": [
    "bleu = eval_load(\"bleu\")\n",
    "def get_bleu_by_level(data_file_path):\n",
    "    data = json.load(open(data_file_path))\n",
    "    predictions, references = data['predictions'], data['references']\n",
    "\n",
    "    pred_and_ref = {}\n",
    "\n",
    "    bleu_by_level = {}\n",
    "\n",
    "    for i in range(len(data['cefr'])):\n",
    "        level = data['cefr'][i][0]\n",
    "\n",
    "        if level not in pred_and_ref:\n",
    "            pred_and_ref[level] = {\"pred\": [], \"ref\": []}\n",
    "\n",
    "        pred_and_ref[level]['pred'].append(predictions[i])\n",
    "        pred_and_ref[level]['ref'].append([references[i]]) # BLEU expects a list of nested references\n",
    "\n",
    "    for level in pred_and_ref:\n",
    "        bleu_scores = bleu.compute(\n",
    "            predictions=pred_and_ref[level]['pred'],\n",
    "            references=pred_and_ref[level]['ref']\n",
    "        )\n",
    "        bleu_by_level[level] = bleu_scores[\"bleu\"]\n",
    "\n",
    "    return bleu_by_level"
   ]
  },
  {
   "cell_type": "code",
   "execution_count": null,
   "metadata": {},
   "outputs": [],
   "source": [
    "rouge = eval_load(\"rouge\")\n",
    "def get_rouge_by_level(data_file_path):\n",
    "    data = json.load(open(data_file_path))\n",
    "    predictions, references = data['predictions'], data['references']\n",
    "\n",
    "    pred_and_ref = {}\n",
    "\n",
    "    rouge_by_level = {}\n",
    "\n",
    "    for i in range(len(data['cefr'])):\n",
    "        level = data['cefr'][i][0]\n",
    "\n",
    "        if level not in pred_and_ref:\n",
    "            pred_and_ref[level] = {\"pred\": [], \"ref\": []}\n",
    "\n",
    "        pred_and_ref[level]['pred'].append(predictions[i])\n",
    "        pred_and_ref[level]['ref'].append(references[i])\n",
    "\n",
    "    for level in pred_and_ref:\n",
    "        rouge_scores = rouge.compute(\n",
    "            predictions=pred_and_ref[level]['pred'],\n",
    "            references=pred_and_ref[level]['ref']\n",
    "        )\n",
    "        rouge_by_level[level] = rouge_scores\n",
    "\n",
    "    return rouge_by_level"
   ]
  },
  {
   "cell_type": "code",
   "execution_count": null,
   "metadata": {},
   "outputs": [],
   "source": [
    "def get_num_samples(data_file_path):\n",
    "    data = json.load(open(data_file_path))\n",
    "\n",
    "    num_samples = {}\n",
    "\n",
    "    for lvl in data['cefr']:\n",
    "        level = lvl[0]\n",
    "        if level not in num_samples:\n",
    "            num_samples[level] = 0\n",
    "        num_samples[level] += 1\n",
    "\n",
    "    return num_samples"
   ]
  },
  {
   "cell_type": "code",
   "execution_count": null,
   "metadata": {},
   "outputs": [],
   "source": [
    "def get_all_metrics_by_level(data_file_path, metrics_file_path, gleu_file_path):\n",
    "    bertscores_by_level = get_bertscore_by_level(data_file_path, metrics_file_path)\n",
    "    edit_dist_by_level = get_edit_dist_by_level(data_file_path)\n",
    "    gleu_by_level = get_gleu_by_level(data_file_path, gleu_file_path)\n",
    "    bleu_by_level = get_bleu_by_level(data_file_path)\n",
    "    rouge_by_level = get_rouge_by_level(data_file_path)\n",
    "    num_samples = get_num_samples(data_file_path)\n",
    "\n",
    "    all_metrics_by_level = {\n",
    "        'bertscore': bertscores_by_level,\n",
    "        'edit_distance': edit_dist_by_level,\n",
    "        'gleu': gleu_by_level,\n",
    "        'bleu': bleu_by_level,\n",
    "        'rouge': rouge_by_level,\n",
    "        'num_samples': num_samples\n",
    "    }\n",
    "\n",
    "    return all_metrics_by_level"
   ]
  },
  {
   "cell_type": "markdown",
   "metadata": {},
   "source": [
    "## Metrics by levels"
   ]
  },
  {
   "cell_type": "markdown",
   "metadata": {},
   "source": [
    "### Phi-2"
   ]
  },
  {
   "cell_type": "code",
   "execution_count": null,
   "metadata": {},
   "outputs": [],
   "source": [
    "base_phi2_metrics_by_level = get_all_metrics_by_level(\n",
    "    \"./finetuned/base_phi2_data.json\",\n",
    "    \"./finetuned/base_phi2_metrics.txt\",\n",
    "    \"./finetuned/base_phi2_data_sentence_level_gleu.csv\"\n",
    ")\n",
    "json.dump(\n",
    "    base_phi2_metrics_by_level,\n",
    "    open(\"./finetuned/base_phi2_metrics_by_level.json\", \"w\")\n",
    ")"
   ]
  },
  {
   "cell_type": "markdown",
   "metadata": {},
   "source": [
    "### StableLM without DPO"
   ]
  },
  {
   "cell_type": "code",
   "execution_count": null,
   "metadata": {},
   "outputs": [],
   "source": [
    "base_stablelm_metrics_by_level = get_all_metrics_by_level(\n",
    "    \"./finetuned/base_stablelm_data.json\",\n",
    "    \"./finetuned/base_stablelm_metrics.txt\",\n",
    "    \"./finetuned/base_stablelm_data_sentence_level_gleu.csv\"\n",
    ")\n",
    "json.dump(\n",
    "    base_stablelm_metrics_by_level,\n",
    "    open(\"./finetuned/base_stablelm_metrics_by_level.json\", \"w\")\n",
    ")"
   ]
  },
  {
   "cell_type": "markdown",
   "metadata": {},
   "source": [
    "### StableLM with DPO"
   ]
  },
  {
   "cell_type": "markdown",
   "metadata": {},
   "source": [
    "#### DPO with Backtranslation"
   ]
  },
  {
   "cell_type": "code",
   "execution_count": null,
   "metadata": {},
   "outputs": [],
   "source": [
    "stablelm_dpo_bt_metrics_by_level = get_all_metrics_by_level(\n",
    "    \"./dpo/stablelm_dpo_backtranslation_data.json\",\n",
    "    \"./dpo/stablelm_dpo_backtranslation_metrics.txt\",\n",
    "    \"./dpo/stablelm_dpo_backtranslation_data_sentence_level_gleu.csv\"\n",
    ")\n",
    "json.dump(\n",
    "    stablelm_dpo_bt_metrics_by_level,\n",
    "    open(\"./dpo/stablelm_dpo_bt_metrics_by_level.json\", \"w\")\n",
    ")"
   ]
  },
  {
   "cell_type": "markdown",
   "metadata": {},
   "source": [
    "#### DPO with Ultrafeedback"
   ]
  },
  {
   "cell_type": "code",
   "execution_count": null,
   "metadata": {},
   "outputs": [],
   "source": [
    "stablelm_dpo_uf_metrics_by_level = get_all_metrics_by_level(\n",
    "    \"./dpo/stablelm_dpo_data.json\",\n",
    "    \"./dpo/stablelm_dpo_metrics.txt\",\n",
    "    \"./dpo/stablelm_dpo_data_sentence_level_gleu.csv\"\n",
    ")\n",
    "json.dump(\n",
    "    stablelm_dpo_uf_metrics_by_level,\n",
    "    open(\"./dpo/stablelm_dpo_uf_metrics_by_level.json\", \"w\")\n",
    ")"
   ]
  }
 ],
 "metadata": {
  "kernelspec": {
   "display_name": ".venv",
   "language": "python",
   "name": "python3"
  },
  "language_info": {
   "codemirror_mode": {
    "name": "ipython",
    "version": 3
   },
   "file_extension": ".py",
   "mimetype": "text/x-python",
   "name": "python",
   "nbconvert_exporter": "python",
   "pygments_lexer": "ipython3",
   "version": "3.10.6"
  }
 },
 "nbformat": 4,
 "nbformat_minor": 2
}
