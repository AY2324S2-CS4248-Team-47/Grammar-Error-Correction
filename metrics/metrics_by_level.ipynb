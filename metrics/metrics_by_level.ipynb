{
 "cells": [
  {
   "cell_type": "markdown",
   "metadata": {},
   "source": [
    "# Metrics for different CEFR levels"
   ]
  },
  {
   "cell_type": "markdown",
   "metadata": {},
   "source": [
    "Computing the following metrics for every cefr level (A, B, C):\n",
    "- Bertscores\n",
    "  - Precision\n",
    "  - Recall\n",
    "  - F1\n",
    "- Edit-distance\n",
    "- GLEU\n",
    "- BLEU\n",
    "- ROUGE"
   ]
  },
  {
   "cell_type": "markdown",
   "metadata": {},
   "source": [
    "## Download required modules"
   ]
  },
  {
   "cell_type": "code",
   "execution_count": null,
   "metadata": {},
   "outputs": [],
   "source": [
    "!pip install editdistance pandas evaluate absl-py nltk rouge_score"
   ]
  },
  {
   "cell_type": "markdown",
   "metadata": {},
   "source": [
    "## Import required packages"
   ]
  },
  {
   "cell_type": "code",
   "execution_count": null,
   "metadata": {},
   "outputs": [],
   "source": [
    "import json\n",
    "import editdistance\n",
    "import pandas as pd\n",
    "from evaluate import load as eval_load"
   ]
  },
  {
   "cell_type": "markdown",
   "metadata": {},
   "source": [
    "## Helper Functions"
   ]
  },
  {
   "cell_type": "code",
   "execution_count": null,
   "metadata": {},
   "outputs": [],
   "source": [
    "def get_bertscore_by_level(data_file_path, metrics_file_path):\n",
    "    data = json.load(open(data_file_path))\n",
    "    metrics = json.load(open(metrics_file_path, \"r\"))\n",
    "\n",
    "    bertscores_by_level = {}\n",
    "\n",
    "    levels = data['cefr']\n",
    "    bertscores = metrics['bertscore']\n",
    "    precisions, recalls, f1s = bertscores['precision'], bertscores['recall'], bertscores['f1']\n",
    "\n",
    "    for i in range(len(levels)):\n",
    "        level = levels[i][0]\n",
    "\n",
    "        if level not in bertscores_by_level:\n",
    "            bertscores_by_level[level] = {'precision': [], 'recall': [], 'f1': []}\n",
    "\n",
    "        bertscores_by_level[level]['precision'].append(precisions[i])\n",
    "        bertscores_by_level[level]['recall'].append(recalls[i])\n",
    "        bertscores_by_level[level]['f1'].append(f1s[i])\n",
    "\n",
    "    for level in bertscores_by_level:\n",
    "        bertscores_by_level[level]['avg_precision'] = sum(bertscores_by_level[level]['precision']) / len(bertscores_by_level[level]['precision'])\n",
    "        bertscores_by_level[level]['avg_recall'] = sum(bertscores_by_level[level]['recall']) / len(bertscores_by_level[level]['recall'])\n",
    "        bertscores_by_level[level]['avg_f1'] = sum(bertscores_by_level[level]['f1']) / len(bertscores_by_level[level]['f1'])\n",
    "\n",
    "    return bertscores_by_level"
   ]
  },
  {
   "cell_type": "code",
   "execution_count": null,
   "metadata": {},
   "outputs": [],
   "source": [
    "def get_edit_dist_by_level(data_file_path):\n",
    "    data = json.load(open(data_file_path))\n",
    "\n",
    "    edit_dist_by_level = {}\n",
    "\n",
    "    levels = data['cefr']\n",
    "    inputs, predictions = data['inputs'], data['predictions']\n",
    "\n",
    "    for i in range(len(levels)):\n",
    "        level = levels[i][0]\n",
    "\n",
    "        if level not in edit_dist_by_level:\n",
    "            edit_dist_by_level[level] = {'ed': []}\n",
    "        \n",
    "        input_text, prediction = inputs[i], predictions[i]\n",
    "        ed = editdistance.eval(input_text, prediction) / len(input_text) # Edit distance normalized by input length\n",
    "\n",
    "        edit_dist_by_level[level]['ed'].append(ed)\n",
    "\n",
    "    for level in edit_dist_by_level:\n",
    "        edit_dist_by_level[level]['avg_ed'] = sum(edit_dist_by_level[level]['ed']) / len(edit_dist_by_level[level]['ed'])\n",
    "\n",
    "    return edit_dist_by_level"
   ]
  },
  {
   "cell_type": "code",
   "execution_count": null,
   "metadata": {},
   "outputs": [],
   "source": [
    "def get_gleu_by_level(data_file_path, gleu_file_path):\n",
    "    data = json.load(open(data_file_path))\n",
    "    gleu_df = pd.read_csv(gleu_file_path, header=None)\n",
    "\n",
    "    gleu_scores = gleu_df[0]\n",
    "\n",
    "    gleu_by_level = {}\n",
    "\n",
    "    for i in range(len(data['cefr'])):\n",
    "        level = data['cefr'][i][0]\n",
    "\n",
    "        if level not in gleu_by_level:\n",
    "            gleu_by_level[level] = {\"gleu\": []}\n",
    "\n",
    "        gleu_by_level[level]['gleu'].append(gleu_scores[i])\n",
    "\n",
    "    for level in gleu_by_level:\n",
    "        gleu_by_level[level]['avg_gleu'] = sum(gleu_by_level[level]['gleu']) / len(gleu_by_level[level]['gleu'])\n",
    "\n",
    "    return gleu_by_level"
   ]
  },
  {
   "cell_type": "code",
   "execution_count": null,
   "metadata": {},
   "outputs": [],
   "source": [
    "bleu = eval_load(\"bleu\")\n",
    "def get_bleu_by_level(data_file_path):\n",
    "    data = json.load(open(data_file_path))\n",
    "    predictions, references = data['predictions'], data['references']\n",
    "\n",
    "    pred_and_ref = {}\n",
    "\n",
    "    bleu_by_level = {}\n",
    "\n",
    "    for i in range(len(data['cefr'])):\n",
    "        level = data['cefr'][i][0]\n",
    "\n",
    "        if level not in pred_and_ref:\n",
    "            pred_and_ref[level] = {\"pred\": [], \"ref\": []}\n",
    "\n",
    "        pred_and_ref[level]['pred'].append(predictions[i])\n",
    "        pred_and_ref[level]['ref'].append([references[i]]) # BLEU expects a list of nested references\n",
    "\n",
    "    for level in pred_and_ref:\n",
    "        bleu_scores = bleu.compute(\n",
    "            predictions=pred_and_ref[level]['pred'],\n",
    "            references=pred_and_ref[level]['ref']\n",
    "        )\n",
    "        bleu_by_level[level] = bleu_scores[\"bleu\"]\n",
    "\n",
    "    return bleu_by_level"
   ]
  },
  {
   "cell_type": "code",
   "execution_count": null,
   "metadata": {},
   "outputs": [],
   "source": [
    "rouge = eval_load(\"rouge\")\n",
    "def get_rouge_by_level(data_file_path):\n",
    "    data = json.load(open(data_file_path))\n",
    "    predictions, references = data['predictions'], data['references']\n",
    "\n",
    "    pred_and_ref = {}\n",
    "\n",
    "    rouge_by_level = {}\n",
    "\n",
    "    for i in range(len(data['cefr'])):\n",
    "        level = data['cefr'][i][0]\n",
    "\n",
    "        if level not in pred_and_ref:\n",
    "            pred_and_ref[level] = {\"pred\": [], \"ref\": []}\n",
    "\n",
    "        pred_and_ref[level]['pred'].append(predictions[i])\n",
    "        pred_and_ref[level]['ref'].append(references[i])\n",
    "\n",
    "    for level in pred_and_ref:\n",
    "        rouge_scores = rouge.compute(\n",
    "            predictions=pred_and_ref[level]['pred'],\n",
    "            references=pred_and_ref[level]['ref']\n",
    "        )\n",
    "        rouge_by_level[level] = rouge_scores\n",
    "\n",
    "    return rouge_by_level"
   ]
  },
  {
   "cell_type": "code",
   "execution_count": null,
   "metadata": {},
   "outputs": [],
   "source": [
    "def get_num_samples(data_file_path):\n",
    "    data = json.load(open(data_file_path))\n",
    "\n",
    "    num_samples = {}\n",
    "\n",
    "    for lvl in data['cefr']:\n",
    "        level = lvl[0]\n",
    "        if level not in num_samples:\n",
    "            num_samples[level] = 0\n",
    "        num_samples[level] += 1\n",
    "\n",
    "    return num_samples"
   ]
  },
  {
   "cell_type": "code",
   "execution_count": null,
   "metadata": {},
   "outputs": [],
   "source": [
    "def get_all_metrics_by_level(data_file_path, metrics_file_path, gleu_file_path):\n",
    "    bertscores_by_level = get_bertscore_by_level(data_file_path, metrics_file_path)\n",
    "    edit_dist_by_level = get_edit_dist_by_level(data_file_path)\n",
    "    gleu_by_level = get_gleu_by_level(data_file_path, gleu_file_path)\n",
    "    bleu_by_level = get_bleu_by_level(data_file_path)\n",
    "    rouge_by_level = get_rouge_by_level(data_file_path)\n",
    "    num_samples = get_num_samples(data_file_path)\n",
    "\n",
    "    all_metrics_by_level = {\n",
    "        'bertscore': bertscores_by_level,\n",
    "        'edit_distance': edit_dist_by_level,\n",
    "        'gleu': gleu_by_level,\n",
    "        'bleu': bleu_by_level,\n",
    "        'rouge': rouge_by_level,\n",
    "        'num_samples': num_samples\n",
    "    }\n",
    "\n",
    "    return all_metrics_by_level"
   ]
  },
  {
   "cell_type": "markdown",
   "metadata": {},
   "source": [
    "## Metrics by levels"
   ]
  },
  {
   "cell_type": "markdown",
   "metadata": {},
   "source": [
    "### StableLM without DPO"
   ]
  },
  {
   "cell_type": "code",
   "execution_count": null,
   "metadata": {},
   "outputs": [],
   "source": [
    "base_stablelm_metrics_by_level = get_all_metrics_by_level(\n",
    "    \"./finetuned/base_stablelm_data.json\",\n",
    "    \"./finetuned/base_stablelm_metrics.txt\",\n",
    "    \"./finetuned/base_stablelm_data_sentence_level_gleu.csv\"\n",
    ")\n",
    "json.dump(\n",
    "    base_stablelm_metrics_by_level,\n",
    "    open(\"./finetuned/base_stablelm_metrics_by_level.json\", \"w\")\n",
    ")"
   ]
  },
  {
   "cell_type": "markdown",
   "metadata": {},
   "source": [
    "### StableLM with DPO"
   ]
  },
  {
   "cell_type": "markdown",
   "metadata": {},
   "source": [
    "#### DPO with Backtranslation"
   ]
  },
  {
   "cell_type": "code",
   "execution_count": null,
   "metadata": {},
   "outputs": [],
   "source": [
    "stablelm_dpo_bt_metrics_by_level = get_all_metrics_by_level(\n",
    "    \"./dpo/stablelm_dpo_backtranslation_data.json\",\n",
    "    \"./dpo/stablelm_dpo_backtranslation_metrics.txt\",\n",
    "    \"./dpo/stablelm_dpo_backtranslation_data_sentence_level_gleu.csv\"\n",
    ")\n",
    "json.dump(\n",
    "    stablelm_dpo_bt_metrics_by_level,\n",
    "    open(\"./dpo/stablelm_dpo_bt_metrics_by_level.json\", \"w\")\n",
    ")"
   ]
  },
  {
   "cell_type": "markdown",
   "metadata": {},
   "source": [
    "#### DPO with Ultrafeedback"
   ]
  },
  {
   "cell_type": "code",
   "execution_count": null,
   "metadata": {},
   "outputs": [],
   "source": [
    "stablelm_dpo_uf_metrics_by_level = get_all_metrics_by_level(\n",
    "    \"./dpo/stablelm_dpo_data.json\",\n",
    "    \"./dpo/stablelm_dpo_metrics.txt\",\n",
    "    \"./dpo/stablelm_dpo_data_sentence_level_gleu.csv\"\n",
    ")\n",
    "json.dump(\n",
    "    stablelm_dpo_uf_metrics_by_level,\n",
    "    open(\"./dpo/stablelm_dpo_uf_metrics_by_level.json\", \"w\")\n",
    ")"
   ]
  }
 ],
 "metadata": {
  "kernelspec": {
   "display_name": ".venv",
   "language": "python",
   "name": "python3"
  },
  "language_info": {
   "codemirror_mode": {
    "name": "ipython",
    "version": 3
   },
   "file_extension": ".py",
   "mimetype": "text/x-python",
   "name": "python",
   "nbconvert_exporter": "python",
   "pygments_lexer": "ipython3",
   "version": "3.10.6"
  }
 },
 "nbformat": 4,
 "nbformat_minor": 2
}
