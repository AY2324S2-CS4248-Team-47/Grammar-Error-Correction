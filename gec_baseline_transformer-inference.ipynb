{
  "nbformat": 4,
  "nbformat_minor": 0,
  "metadata": {
    "colab": {
      "provenance": []
    },
    "kernelspec": {
      "name": "python3",
      "display_name": "Python 3"
    },
    "language_info": {
      "name": "python"
    }
  },
  "cells": [
    {
      "cell_type": "markdown",
      "source": [
        "# GEC Baseline Transformer - Inference"
      ],
      "metadata": {
        "id": "0dKmTuB7QnWW"
      }
    },
    {
      "cell_type": "markdown",
      "source": [
        "## Downloading required packages"
      ],
      "metadata": {
        "id": "9dZJGuodQsLk"
      }
    },
    {
      "cell_type": "code",
      "execution_count": null,
      "metadata": {
        "id": "oLn0XoIDQjYv"
      },
      "outputs": [],
      "source": [
        "!pip install wandb"
      ]
    },
    {
      "cell_type": "markdown",
      "source": [
        "## Importing required packages"
      ],
      "metadata": {
        "id": "crlCUCXcQwkv"
      }
    },
    {
      "cell_type": "code",
      "source": [
        "import wandb\n",
        "import torch\n",
        "from transformers import AutoModelForSeq2SeqLM, AutoTokenizer, pipeline"
      ],
      "metadata": {
        "id": "Z82EIU_OQ1yB"
      },
      "execution_count": null,
      "outputs": []
    },
    {
      "cell_type": "markdown",
      "source": [
        "## Load model from WandB"
      ],
      "metadata": {
        "id": "3I9B5AyQQ21X"
      }
    },
    {
      "cell_type": "code",
      "source": [
        "wandb.login()"
      ],
      "metadata": {
        "id": "d9ajXUILsQcw"
      },
      "execution_count": null,
      "outputs": []
    },
    {
      "cell_type": "code",
      "source": [
        "artifact_path = \"ay2324s2-cs4248-team-47/gec-baseline-transformer/model-q2x0owrh:v0\" # Change according to which model is to be imported\n",
        "\n",
        "api = wandb.Api()\n",
        "artifact = api.artifact(artifact_path)\n",
        "\n",
        "artifact_dir = artifact.download()"
      ],
      "metadata": {
        "id": "ZD1dfTfmQ5_c"
      },
      "execution_count": null,
      "outputs": []
    },
    {
      "cell_type": "code",
      "source": [
        "model = AutoModelForSeq2SeqLM.from_pretrained(artifact_dir)\n",
        "tokenizer = AutoTokenizer.from_pretrained('t5-small')"
      ],
      "metadata": {
        "id": "hmsegmUhmNm0"
      },
      "execution_count": null,
      "outputs": []
    },
    {
      "cell_type": "markdown",
      "source": [
        "## Setup inference pipeline"
      ],
      "metadata": {
        "id": "IM1p57LOQ7Wx"
      }
    },
    {
      "cell_type": "code",
      "source": [
        "generator = pipeline(\"text2text-generation\", model=model, device_map=\"auto\", torch_dtype=torch.float16, tokenizer=tokenizer)"
      ],
      "metadata": {
        "id": "n0SH5EzLQ91d"
      },
      "execution_count": null,
      "outputs": []
    },
    {
      "cell_type": "code",
      "source": [
        "def correct_text(original_text: str):\n",
        "    len_tokenized_input = len(tokenizer(original_text)[\"input_ids\"])\n",
        "    outputs = generator(original_text, do_sample=True, max_new_tokens=len_tokenized_input, top_p=0.95, num_return_sequences=1, num_beams=5)\n",
        "\n",
        "    return outputs[0]"
      ],
      "metadata": {
        "id": "4qDpyhBsq_Ri"
      },
      "execution_count": null,
      "outputs": []
    },
    {
      "cell_type": "markdown",
      "source": [
        "## Run inference"
      ],
      "metadata": {
        "id": "-fh0lsUfQ-Ht"
      }
    },
    {
      "cell_type": "code",
      "source": [
        "SENTENCE = \"My favourite sport is volleyball because I love plays with my friends. Volleyball is a sport play every place, when I travel on the beach I like plays with my sister in the sand and after we are going to the sea. It is very funny. when I was young I like plays with the ball in the playground and my friend and I played using the soccer goals as a network of volleyball.\"\n",
        "print(correct_text(SENTENCE))"
      ],
      "metadata": {
        "id": "9xdLhPqcRAyR"
      },
      "execution_count": null,
      "outputs": []
    }
  ]
}