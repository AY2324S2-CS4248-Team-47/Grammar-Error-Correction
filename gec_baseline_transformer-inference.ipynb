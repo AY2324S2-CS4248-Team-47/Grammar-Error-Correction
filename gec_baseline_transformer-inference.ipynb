{
  "cells": [
    {
      "cell_type": "markdown",
      "metadata": {
        "id": "0dKmTuB7QnWW"
      },
      "source": [
        "# GEC Baseline Transformer - Inference"
      ]
    },
    {
      "cell_type": "markdown",
      "metadata": {
        "id": "9dZJGuodQsLk"
      },
      "source": [
        "## Downloading required packages"
      ]
    },
    {
      "cell_type": "code",
      "execution_count": null,
      "metadata": {
        "id": "oLn0XoIDQjYv"
      },
      "outputs": [],
      "source": [
        "!pip install wandb"
      ]
    },
    {
      "cell_type": "markdown",
      "metadata": {
        "id": "crlCUCXcQwkv"
      },
      "source": [
        "## Importing required packages"
      ]
    },
    {
      "cell_type": "code",
      "execution_count": null,
      "metadata": {
        "id": "Z82EIU_OQ1yB"
      },
      "outputs": [],
      "source": [
        "import wandb\n",
        "import torch\n",
        "from transformers import AutoModelForSeq2SeqLM, AutoTokenizer, pipeline"
      ]
    },
    {
      "cell_type": "markdown",
      "metadata": {
        "id": "3I9B5AyQQ21X"
      },
      "source": [
        "## Load model from WandB"
      ]
    },
    {
      "cell_type": "code",
      "execution_count": null,
      "metadata": {
        "id": "d9ajXUILsQcw"
      },
      "outputs": [],
      "source": [
        "wandb.login()"
      ]
    },
    {
      "cell_type": "code",
      "execution_count": null,
      "metadata": {
        "id": "ZD1dfTfmQ5_c"
      },
      "outputs": [],
      "source": [
        "artifact_path = \"ay2324s2-cs4248-team-47/gec-baseline-transformer/model-2t26ubk6:v0\" # Change according to which model is to be imported\n",
        "\n",
        "api = wandb.Api()\n",
        "artifact = api.artifact(artifact_path)\n",
        "\n",
        "artifact_dir = artifact.download()"
      ]
    },
    {
      "cell_type": "code",
      "execution_count": null,
      "metadata": {
        "id": "hmsegmUhmNm0"
      },
      "outputs": [],
      "source": [
        "model = AutoModelForSeq2SeqLM.from_pretrained(artifact_dir)\n",
        "tokenizer = AutoTokenizer.from_pretrained('t5-small')"
      ]
    },
    {
      "cell_type": "markdown",
      "metadata": {
        "id": "IM1p57LOQ7Wx"
      },
      "source": [
        "## Setup inference pipeline"
      ]
    },
    {
      "cell_type": "code",
      "execution_count": null,
      "metadata": {
        "id": "n0SH5EzLQ91d"
      },
      "outputs": [],
      "source": [
        "generator = pipeline(\"text2text-generation\", model=model, device_map=\"auto\", torch_dtype=torch.float16, tokenizer=tokenizer)"
      ]
    },
    {
      "cell_type": "code",
      "execution_count": null,
      "metadata": {
        "id": "4qDpyhBsq_Ri"
      },
      "outputs": [],
      "source": [
        "def correct_text(original_text: str):\n",
        "    len_tokenized_input = len(tokenizer(original_text)[\"input_ids\"])\n",
        "    outputs = generator(original_text, do_sample=True, max_new_tokens=len_tokenized_input, top_p=0.95, num_return_sequences=1, num_beams=5)\n",
        "\n",
        "    return outputs[0]"
      ]
    },
    {
      "cell_type": "markdown",
      "metadata": {
        "id": "-fh0lsUfQ-Ht"
      },
      "source": [
        "## Run inference"
      ]
    },
    {
      "cell_type": "code",
      "execution_count": null,
      "metadata": {
        "id": "9xdLhPqcRAyR"
      },
      "outputs": [],
      "source": [
        "SENTENCE = \"My favourite sport is volleyball because I love plays with my friends. Volleyball is a sport play every place, when I travel on the beach I like plays with my sister in the sand and after we are going to the sea. It is very funny. when I was young I like plays with the ball in the playground and my friend and I played using the soccer goals as a network of volleyball.\"\n",
        "print(correct_text(SENTENCE))"
      ]
    }
  ],
  "metadata": {
    "colab": {
      "provenance": []
    },
    "kernelspec": {
      "display_name": "Python 3",
      "name": "python3"
    },
    "language_info": {
      "name": "python"
    }
  },
  "nbformat": 4,
  "nbformat_minor": 0
}
