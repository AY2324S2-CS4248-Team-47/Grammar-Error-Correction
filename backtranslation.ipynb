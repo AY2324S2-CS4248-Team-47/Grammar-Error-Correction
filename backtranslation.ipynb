{
 "cells": [
  {
   "cell_type": "code",
   "execution_count": 1,
   "metadata": {},
   "outputs": [
    {
     "name": "stdout",
     "output_type": "stream",
     "text": [
      "Requirement already satisfied: googletrans==4.0.0-rc1 in /Users/nataniayp/miniconda3/lib/python3.11/site-packages (4.0.0rc1)\n",
      "Requirement already satisfied: httpx==0.13.3 in /Users/nataniayp/miniconda3/lib/python3.11/site-packages (from googletrans==4.0.0-rc1) (0.13.3)\n",
      "Requirement already satisfied: certifi in /Users/nataniayp/miniconda3/lib/python3.11/site-packages (from httpx==0.13.3->googletrans==4.0.0-rc1) (2023.7.22)\n",
      "Requirement already satisfied: hstspreload in /Users/nataniayp/miniconda3/lib/python3.11/site-packages (from httpx==0.13.3->googletrans==4.0.0-rc1) (2024.4.1)\n",
      "Requirement already satisfied: sniffio in /Users/nataniayp/miniconda3/lib/python3.11/site-packages (from httpx==0.13.3->googletrans==4.0.0-rc1) (1.2.0)\n",
      "Requirement already satisfied: chardet==3.* in /Users/nataniayp/miniconda3/lib/python3.11/site-packages (from httpx==0.13.3->googletrans==4.0.0-rc1) (3.0.4)\n",
      "Requirement already satisfied: idna==2.* in /Users/nataniayp/miniconda3/lib/python3.11/site-packages (from httpx==0.13.3->googletrans==4.0.0-rc1) (2.10)\n",
      "Requirement already satisfied: rfc3986<2,>=1.3 in /Users/nataniayp/miniconda3/lib/python3.11/site-packages (from httpx==0.13.3->googletrans==4.0.0-rc1) (1.5.0)\n",
      "Requirement already satisfied: httpcore==0.9.* in /Users/nataniayp/miniconda3/lib/python3.11/site-packages (from httpx==0.13.3->googletrans==4.0.0-rc1) (0.9.1)\n",
      "Requirement already satisfied: h11<0.10,>=0.8 in /Users/nataniayp/miniconda3/lib/python3.11/site-packages (from httpcore==0.9.*->httpx==0.13.3->googletrans==4.0.0-rc1) (0.9.0)\n",
      "Requirement already satisfied: h2==3.* in /Users/nataniayp/miniconda3/lib/python3.11/site-packages (from httpcore==0.9.*->httpx==0.13.3->googletrans==4.0.0-rc1) (3.2.0)\n",
      "Requirement already satisfied: hyperframe<6,>=5.2.0 in /Users/nataniayp/miniconda3/lib/python3.11/site-packages (from h2==3.*->httpcore==0.9.*->httpx==0.13.3->googletrans==4.0.0-rc1) (5.2.0)\n",
      "Requirement already satisfied: hpack<4,>=3.0 in /Users/nataniayp/miniconda3/lib/python3.11/site-packages (from h2==3.*->httpcore==0.9.*->httpx==0.13.3->googletrans==4.0.0-rc1) (3.0.0)\n",
      "Note: you may need to restart the kernel to use updated packages.\n"
     ]
    }
   ],
   "source": [
    "pip install googletrans==4.0.0-rc1"
   ]
  },
  {
   "cell_type": "code",
   "execution_count": 23,
   "metadata": {},
   "outputs": [
    {
     "name": "stdout",
     "output_type": "stream",
     "text": [
      "original: \tThe present belief is that scientific approach will solve all the problems and do away with all difficulties.\n",
      "la: \t\tPraesens opinionem est scientific adventu solvere omnes difficultates et auferet omnibus difficultatibus.\n",
      "hu: \t\tJelenleg a tudományos érzés az összes probléma megoldásához és az összes nehézség megszüntetéséhez.\n",
      "en: \t\tCurrently, scientific feeling to solve all the problems and eliminate all difficulties.\n"
     ]
    }
   ],
   "source": [
    "from googletrans import Translator\n",
    "translator = Translator()\n",
    "to_translate = \"The present belief is that scientific approach will solve all the problems and do away with all difficulties.\" # original sentence\n",
    "arr = [\"la\", \"hu\", \"en\"] # flow of translation: en -> la -> hu -> en\n",
    "# check language codes at https://py-googletrans.readthedocs.io/en/latest/\n",
    "\n",
    "def backtranslate(to_translate, flow):\n",
    "    print(\"original: \\t%s\" % to_translate)\n",
    "    for dest in flow:\n",
    "        translation = translator.translate(to_translate, dest=dest)\n",
    "        to_translate = translation.text\n",
    "        print(\"%s: \\t\\t%s\" %(dest, translation.text))\n",
    "\n",
    "backtranslate(to_translate, arr)"
   ]
  },
  {
   "cell_type": "code",
   "execution_count": null,
   "metadata": {},
   "outputs": [],
   "source": []
  }
 ],
 "metadata": {
  "kernelspec": {
   "display_name": "Python 3",
   "language": "python",
   "name": "python3"
  },
  "language_info": {
   "codemirror_mode": {
    "name": "ipython",
    "version": 3
   },
   "file_extension": ".py",
   "mimetype": "text/x-python",
   "name": "python",
   "nbconvert_exporter": "python",
   "pygments_lexer": "ipython3",
   "version": "3.11.5"
  },
  "orig_nbformat": 4
 },
 "nbformat": 4,
 "nbformat_minor": 2
}
